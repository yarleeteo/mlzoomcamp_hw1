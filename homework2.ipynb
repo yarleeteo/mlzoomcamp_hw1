{
 "cells": [
  {
   "cell_type": "code",
   "execution_count": 51,
   "metadata": {},
   "outputs": [],
   "source": [
    "import pandas as pd\n",
    "import numpy as np\n",
    "import matplotlib.pyplot as plt"
   ]
  },
  {
   "cell_type": "code",
   "execution_count": 52,
   "metadata": {},
   "outputs": [],
   "source": [
    "def train_linear_regression(X, y):\n",
    "    ones = np.ones(X.shape[0])\n",
    "    X = np.column_stack([ones, X])\n",
    "\n",
    "    XTX = X.T.dot(X)\n",
    "    XTX_inv = np.linalg.inv(XTX)\n",
    "    w = XTX_inv.dot(X.T).dot(y)\n",
    "\n",
    "    return w[0], w[1:]"
   ]
  },
  {
   "cell_type": "code",
   "execution_count": 53,
   "metadata": {},
   "outputs": [],
   "source": [
    "df = pd.read_csv('housing.csv')"
   ]
  },
  {
   "cell_type": "code",
   "execution_count": 54,
   "metadata": {},
   "outputs": [
    {
     "name": "stdout",
     "output_type": "stream",
     "text": [
      "There is long tail distribution for median house value\n"
     ]
    },
    {
     "data": {
      "image/png": "[encoded data removed]",
      "text/plain": [
       "<Figure size 432x288 with 1 Axes>"
      ]
     },
     "metadata": {
      "needs_background": "light"
     },
     "output_type": "display_data"
    }
   ],
   "source": [
    "plt.hist(df['median_house_value'])\n",
    "print('There is long tail distribution for median house value')"
   ]
  },
  {
   "cell_type": "code",
   "execution_count": 55,
   "metadata": {},
   "outputs": [
    {
     "data": {
      "text/plain": [
       "longitude               0\n",
       "latitude                0\n",
       "housing_median_age      0\n",
       "total_rooms             0\n",
       "total_bedrooms        207\n",
       "population              0\n",
       "households              0\n",
       "median_income           0\n",
       "median_house_value      0\n",
       "ocean_proximity         0\n",
       "dtype: int64"
      ]
     },
     "execution_count": 55,
     "metadata": {},
     "output_type": "execute_result"
    }
   ],
   "source": [
    "# Question 1\n",
    "df.isnull().sum()"
   ]
  },
  {
   "cell_type": "code",
   "execution_count": 56,
   "metadata": {},
   "outputs": [
    {
     "name": "stdout",
     "output_type": "stream",
     "text": [
      "50th percentila of population: 1166.0\n",
      "The median of the population: 1166.0\n"
     ]
    }
   ],
   "source": [
    "# Question 2\n",
    "print(\"50th percentila of population:\", df['population'].quantile(0.5))\n",
    "print(\"The median of the population:\", df['population'].median())"
   ]
  },
  {
   "cell_type": "code",
   "execution_count": 57,
   "metadata": {},
   "outputs": [],
   "source": [
    "# dataset splitting\n",
    "n = len(df)\n",
    "n_train = int(n*0.6)\n",
    "n_test = int(n*0.2)\n",
    "n_val = int(n*0.2)\n",
    "\n",
    "index = np.arange(n)\n",
    "np.random.seed(42)\n",
    "np.random.shuffle(index)\n",
    "\n",
    "df_train = df.iloc[index[:n_train]]\n",
    "df_test = df.iloc[index[n_train:n_train+n_test]]\n",
    "df_val = df.iloc[index[n_train+n_test:n_train+n_test+n_val]]\n",
    "\n",
    "df_train = df_train.reset_index(drop=True)\n",
    "df_test = df_test.reset_index(drop=True)\n",
    "df_val = df_val.reset_index(drop=True)\n",
    "\n",
    "y_train = np.log1p(df_train.median_house_value.values)\n",
    "y_test = np.log1p(df_test.median_house_value.values)\n",
    "y_val = np.log1p(df_val.median_house_value.values)\n",
    "\n",
    "del df_train['median_house_value']\n",
    "del df_test['median_house_value']\n",
    "del df_val['median_house_value']"
   ]
  },
  {
   "cell_type": "code",
   "execution_count": 62,
   "metadata": {},
   "outputs": [
    {
     "data": {
      "image/png": "[encoded data removed]",
      "text/plain": [
       "<Figure size 864x576 with 1 Axes>"
      ]
     },
     "metadata": {
      "needs_background": "light"
     },
     "output_type": "display_data"
    },
    {
     "name": "stdout",
     "output_type": "stream",
     "text": [
      "Prediction result filled with zero\n",
      "train data RMSE: 0.34\n",
      "validation data RMSE: 0.35\n",
      "Prediction result filled with zero\n",
      "train data RMSE: 0.34\n",
      "validation data RMSE: 0.35\n"
     ]
    },
    {
     "name": "stderr",
     "output_type": "stream",
     "text": [
      "C:\\Users\\User\\AppData\\Local\\Temp/ipykernel_12564/2684092741.py:44: FutureWarning: Dropping of nuisance columns in DataFrame reductions (with 'numeric_only=None') is deprecated; in a future version this will raise TypeError.  Select only valid columns before calling the reduction.\n",
      "  X_train = prepare_X(df_train, df_train.median())\n",
      "C:\\Users\\User\\AppData\\Local\\Temp/ipykernel_12564/2684092741.py:49: FutureWarning: Dropping of nuisance columns in DataFrame reductions (with 'numeric_only=None') is deprecated; in a future version this will raise TypeError.  Select only valid columns before calling the reduction.\n",
      "  X_val = prepare_X(df_val, df_val.median())\n"
     ]
    }
   ],
   "source": [
    "# Question 3\n",
    "\n",
    "base = ['longitude', 'latitude', 'housing_median_age', 'total_rooms',\n",
    "       'total_bedrooms', 'population', 'households', 'median_income']\n",
    "def prepare_X(df, fill_na_item):\n",
    "    df_num = df[base]\n",
    "    df_num = df_num.fillna(fill_na_item)\n",
    "    X = df_num.values\n",
    "    return X\n",
    "\n",
    "X_train = prepare_X(df_train, 0)\n",
    "w0, w = train_linear_regression(X_train, y_train)\n",
    "\n",
    "# prediction using train data\n",
    "y_pred = w0 + X_train.dot(w)\n",
    "\n",
    "plt.figure(figsize=(12, 8))\n",
    "\n",
    "plt.hist(y_train, label='target', color='#222222', alpha=0.6, bins=40)\n",
    "plt.hist(y_pred, label='prediction', color='#aaaaaa', alpha=0.8, bins=40)\n",
    "\n",
    "plt.legend()\n",
    "\n",
    "plt.ylabel('Frequency')\n",
    "plt.xlabel('Log(Price+1')\n",
    "plt.title('Predictions vs actual distribution')\n",
    "\n",
    "plt.show()\n",
    "\n",
    "def rmse(y, y_pred):\n",
    "    error = y_pred - y\n",
    "    mse = (error ** 2).mean()\n",
    "    return np.sqrt(mse)\n",
    "\n",
    "print(\"Prediction result filled with zero\")\n",
    "print(\"train data RMSE:\", round(rmse(y_train, y_pred), 2))\n",
    "\n",
    "X_val = prepare_X(df_val, 0)\n",
    "# prediction using validation data\n",
    "y_pred = w0 + X_val.dot(w)\n",
    "print(\"validation data RMSE:\", round(rmse(y_val, y_pred), 2))\n",
    "\n",
    "# fill in na with median\n",
    "X_train = prepare_X(df_train, df_train.median())\n",
    "y_pred = w0 + X_train.dot(w)\n",
    "print(\"Prediction result filled with zero\")\n",
    "print(\"train data RMSE:\", round(rmse(y_train, y_pred), 2))\n",
    "\n",
    "X_val = prepare_X(df_val, df_val.median())\n",
    "# prediction using validation data\n",
    "y_pred = w0 + X_val.dot(w)\n",
    "print(\"validation data RMSE:\", round(rmse(y_val, y_pred), 2))"
   ]
  },
  {
   "cell_type": "code",
   "execution_count": 63,
   "metadata": {},
   "outputs": [],
   "source": [
    "def train_linear_regression_reg(X, y, r=0.0):\n",
    "    ones = np.ones(X.shape[0])\n",
    "    X = np.column_stack([ones, X])\n",
    "\n",
    "    XTX = X.T.dot(X)\n",
    "    reg = r * np.eye(XTX.shape[0])\n",
    "    XTX = XTX + reg\n",
    "\n",
    "    XTX_inv = np.linalg.inv(XTX)\n",
    "    w = XTX_inv.dot(X.T).dot(y)\n",
    "    \n",
    "    return w[0], w[1:]"
   ]
  },
  {
   "cell_type": "code",
   "execution_count": 64,
   "metadata": {},
   "outputs": [
    {
     "name": "stdout",
     "output_type": "stream",
     "text": [
      "regression: 0 validation data RMSE: 0.35\n",
      "regression: 1e-06 validation data RMSE: 0.35\n",
      "regression: 0.0001 validation data RMSE: 0.35\n",
      "regression: 0.001 validation data RMSE: 0.35\n",
      "regression: 0.01 validation data RMSE: 0.35\n",
      "regression: 0.1 validation data RMSE: 0.35\n",
      "regression: 1 validation data RMSE: 0.36\n",
      "regression: 5 validation data RMSE: 0.36\n",
      "regression: 10 validation data RMSE: 0.36\n"
     ]
    }
   ],
   "source": [
    "# Question 4\n",
    "X_train = prepare_X(df_train, 0)\n",
    "for r in [0, 0.000001, 0.0001, 0.001, 0.01, 0.1, 1, 5, 10]:\n",
    "    w0, w = train_linear_regression_reg(X_train, y_train, r=r)\n",
    "    X_val = prepare_X(df_val, 0)\n",
    "    # prediction using validation data\n",
    "    y_pred = w0 + X_val.dot(w)\n",
    "    print(\"regression:\", r, \"validation data RMSE:\", round(rmse(y_val, y_pred), 2))"
   ]
  },
  {
   "cell_type": "code",
   "execution_count": 67,
   "metadata": {},
   "outputs": [
    {
     "name": "stdout",
     "output_type": "stream",
     "text": [
      "0.005\n"
     ]
    }
   ],
   "source": [
    "score = list()\n",
    "for seed in [0, 1, 2, 3, 4, 5, 6, 7, 8, 9]:\n",
    "    index = np.arange(n)\n",
    "    np.random.seed(seed)\n",
    "    np.random.shuffle(index)\n",
    "\n",
    "    df_train = df.iloc[index[:n_train]]\n",
    "    df_test = df.iloc[index[n_train:n_train+n_test]]\n",
    "    df_val = df.iloc[index[n_train+n_test:n_train+n_test+n_val]]\n",
    "\n",
    "    df_train = df_train.reset_index(drop=True)\n",
    "    df_test = df_test.reset_index(drop=True)\n",
    "    df_val = df_val.reset_index(drop=True)\n",
    "\n",
    "    y_train = np.log1p(df_train.median_house_value.values)\n",
    "    y_test = np.log1p(df_test.median_house_value.values)\n",
    "    y_val = np.log1p(df_val.median_house_value.values)\n",
    "\n",
    "    del df_train['median_house_value']\n",
    "    del df_test['median_house_value']\n",
    "    del df_val['median_house_value']\n",
    "\n",
    "    X_train = prepare_X(df_train, 0)\n",
    "    w0, w = train_linear_regression_reg(X_train, y_train, r=0)\n",
    "\n",
    "    X_val = prepare_X(df_val, 0)\n",
    "    # prediction using validation data\n",
    "    y_pred = w0 + X_val.dot(w)\n",
    "    score.append(round(rmse(y_val, y_pred), 2))\n",
    "standard_deviation = np.std(score)\n",
    "print(round(standard_deviation, 3))"
   ]
  },
  {
   "cell_type": "code",
   "execution_count": 69,
   "metadata": {},
   "outputs": [
    {
     "name": "stdout",
     "output_type": "stream",
     "text": [
      "Test data RMSE: 0.34\n"
     ]
    }
   ],
   "source": [
    "index = np.arange(n)\n",
    "np.random.seed(9)\n",
    "np.random.shuffle(index)\n",
    "\n",
    "df_train = df.iloc[index[:n_train]]\n",
    "df_test = df.iloc[index[n_train:n_train+n_test]]\n",
    "df_val = df.iloc[index[n_train+n_test:n_train+n_test+n_val]]\n",
    "\n",
    "df_train = df_train.reset_index(drop=True)\n",
    "df_test = df_test.reset_index(drop=True)\n",
    "df_val = df_val.reset_index(drop=True)\n",
    "\n",
    "y_train = np.log1p(df_train.median_house_value.values)\n",
    "y_test = np.log1p(df_test.median_house_value.values)\n",
    "y_val = np.log1p(df_val.median_house_value.values)\n",
    "\n",
    "del df_train['median_house_value']\n",
    "del df_test['median_house_value']\n",
    "del df_val['median_house_value']\n",
    "\n",
    "X_train = prepare_X(df_train, 0)\n",
    "w0, w = train_linear_regression_reg(X_train, y_train, r=0)\n",
    "\n",
    "X_test = prepare_X(df_test, 0)\n",
    "# prediction using validation data\n",
    "y_pred = w0 + X_test.dot(w)\n",
    "print(\"Test data RMSE:\", round(rmse(y_test, y_pred), 2))"
   ]
  },
  {
   "cell_type": "code",
   "execution_count": null,
   "metadata": {},
   "outputs": [],
   "source": []
  }
 ],
 "metadata": {
  "kernelspec": {
   "display_name": "Python 3.9.6 64-bit",
   "language": "python",
   "name": "python3"
  },
  "language_info": {
   "codemirror_mode": {
    "name": "ipython",
    "version": 3
   },
   "file_extension": ".py",
   "mimetype": "text/x-python",
   "name": "python",
   "nbconvert_exporter": "python",
   "pygments_lexer": "ipython3",
   "version": "3.9.6"
  },
  "orig_nbformat": 4,
  "vscode": {
   "interpreter": {
    "hash": "cf92aa13fedf815d5c8dd192b8d835913fde3e8bc926b2a0ad6cc74ef2ba3ca2"
   }
  }
 },
 "nbformat": 4,
 "nbformat_minor": 2
}
