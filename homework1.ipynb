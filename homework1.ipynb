{
 "cells": [
  {
   "cell_type": "code",
   "execution_count": 40,
   "metadata": {},
   "outputs": [],
   "source": [
    "import pandas as pd\n",
    "import numpy as np"
   ]
  },
  {
   "cell_type": "code",
   "execution_count": 41,
   "metadata": {},
   "outputs": [
    {
     "data": {
      "text/plain": [
       "'1.22.2'"
      ]
     },
     "execution_count": 41,
     "metadata": {},
     "output_type": "execute_result"
    }
   ],
   "source": [
    "# Question 1\n",
    "np.__version__"
   ]
  },
  {
   "cell_type": "code",
   "execution_count": 53,
   "metadata": {},
   "outputs": [],
   "source": [
    "df = pd.read_csv('data.csv')"
   ]
  },
  {
   "cell_type": "code",
   "execution_count": 54,
   "metadata": {},
   "outputs": [
    {
     "name": "stdout",
     "output_type": "stream",
     "text": [
      "11914\n"
     ]
    }
   ],
   "source": [
    "# Question 2\n",
    "print(len(df))"
   ]
  },
  {
   "cell_type": "code",
   "execution_count": 55,
   "metadata": {},
   "outputs": [
    {
     "name": "stdout",
     "output_type": "stream",
     "text": [
      "Chevrolet        1123\n",
      "Ford              881\n",
      "Volkswagen        809\n",
      "Toyota            746\n",
      "Dodge             626\n",
      "Nissan            558\n",
      "GMC               515\n",
      "Honda             449\n",
      "Mazda             423\n",
      "Cadillac          397\n",
      "Mercedes-Benz     353\n",
      "Suzuki            351\n",
      "BMW               334\n",
      "Infiniti          330\n",
      "Audi              328\n",
      "Hyundai           303\n",
      "Volvo             281\n",
      "Subaru            256\n",
      "Acura             252\n",
      "Kia               231\n",
      "Mitsubishi        213\n",
      "Lexus             202\n",
      "Buick             196\n",
      "Chrysler          187\n",
      "Pontiac           186\n",
      "Lincoln           164\n",
      "Oldsmobile        150\n",
      "Land Rover        143\n",
      "Porsche           136\n",
      "Saab              111\n",
      "Aston Martin       93\n",
      "Plymouth           82\n",
      "Bentley            74\n",
      "Ferrari            69\n",
      "FIAT               62\n",
      "Scion              60\n",
      "Maserati           58\n",
      "Lamborghini        52\n",
      "Rolls-Royce        31\n",
      "Lotus              29\n",
      "Tesla              18\n",
      "HUMMER             17\n",
      "Maybach            16\n",
      "Alfa Romeo          5\n",
      "McLaren             5\n",
      "Spyker              3\n",
      "Genesis             3\n",
      "Bugatti             3\n",
      "Name: Make, dtype: int64\n"
     ]
    }
   ],
   "source": [
    "# Question 3\n",
    "print(df['Make'].value_counts())"
   ]
  },
  {
   "cell_type": "code",
   "execution_count": 56,
   "metadata": {},
   "outputs": [
    {
     "name": "stdout",
     "output_type": "stream",
     "text": [
      "               Model  Year  Engine Fuel Type  Engine HP  Engine Cylinders  \\\n",
      "Make                                                                        \n",
      "Acura             18    22                 3         27                 3   \n",
      "Alfa Romeo         1     2                 1          1                 1   \n",
      "Aston Martin      12    11                 1         13                 2   \n",
      "Audi              34    20                 5         40                 6   \n",
      "BMW               39    18                 5         37                 5   \n",
      "Bentley           18    12                 2         16                 2   \n",
      "Bugatti            1     2                 1          1                 1   \n",
      "Buick             20    19                 4         29                 3   \n",
      "Cadillac          30    25                 5         32                 3   \n",
      "Chevrolet         63    27                 7         68                 6   \n",
      "Chrysler          19    23                 3         27                 3   \n",
      "Dodge             33    27                 4         58                 4   \n",
      "FIAT               5     3                 3          4                 2   \n",
      "Ferrari           14    14                 1         16                 2   \n",
      "Ford              51    28                 5         70                 5   \n",
      "GMC               30    26                 3         30                 4   \n",
      "Genesis            1     1                 2          2                 2   \n",
      "HUMMER             2     3                 2          3                 2   \n",
      "Honda             21    20                 5         31                 3   \n",
      "Hyundai           22    19                 2         40                 3   \n",
      "Infiniti          38    25                 3         33                 3   \n",
      "Kia               16    10                 3         29                 4   \n",
      "Lamborghini        6     9                 1         12                 2   \n",
      "Land Rover        11    16                 5         11                 3   \n",
      "Lexus             46    24                 3         41                 4   \n",
      "Lincoln           16    21                 4         20                 3   \n",
      "Lotus              5     9                 2          9                 3   \n",
      "Maserati           8     8                 1         10                 2   \n",
      "Maybach            3     3                 1          4                 1   \n",
      "Mazda             31    26                 4         44                 2   \n",
      "McLaren            4     4                 1          4                 1   \n",
      "Mercedes-Benz     40    21                 5         56                 6   \n",
      "Mitsubishi        22    25                 4         30                 4   \n",
      "Nissan            32    20                 4         40                 4   \n",
      "Oldsmobile        18    15                 2         18                 3   \n",
      "Plymouth          10     9                 3         12                 2   \n",
      "Pontiac           20    19                 4         39                 3   \n",
      "Porsche           12    12                 3         29                 4   \n",
      "Rolls-Royce       10     7                 1          5                 2   \n",
      "Saab               8    11                 4         19                 3   \n",
      "Scion              8     8                 2          9                 1   \n",
      "Spyker             1     1                 1          1                 1   \n",
      "Subaru            16    17                 3         21                 3   \n",
      "Suzuki            16    21                 1         17                 2   \n",
      "Tesla              1     3                 1          0                 1   \n",
      "Toyota            39    22                 5         43                 4   \n",
      "Volkswagen        31    23                 6         27                 6   \n",
      "Volvo             26    24                 3         22                 3   \n",
      "\n",
      "               Transmission Type  Driven_Wheels  Number of Doors  \\\n",
      "Make                                                               \n",
      "Acura                          3              4                2   \n",
      "Alfa Romeo                     1              1                1   \n",
      "Aston Martin                   3              1                2   \n",
      "Audi                           3              2                2   \n",
      "BMW                            4              3                2   \n",
      "Bentley                        1              2                2   \n",
      "Bugatti                        1              1                1   \n",
      "Buick                          1              3                2   \n",
      "Cadillac                       2              4                2   \n",
      "Chevrolet                      3              4                3   \n",
      "Chrysler                       3              4                2   \n",
      "Dodge                          3              4                3   \n",
      "FIAT                           3              3                2   \n",
      "Ferrari                        3              2                1   \n",
      "Ford                           4              4                3   \n",
      "GMC                            3              4                3   \n",
      "Genesis                        1              2                1   \n",
      "HUMMER                         2              1                1   \n",
      "Honda                          3              4                2   \n",
      "Hyundai                        3              3                3   \n",
      "Infiniti                       2              4                2   \n",
      "Kia                            4              4                2   \n",
      "Lamborghini                    2              2                1   \n",
      "Land Rover                     2              2                2   \n",
      "Lexus                          3              4                2   \n",
      "Lincoln                        1              4                2   \n",
      "Lotus                          1              1                1   \n",
      "Maserati                       3              2                2   \n",
      "Maybach                        1              1                1   \n",
      "Mazda                          2              4                2   \n",
      "McLaren                        1              1                1   \n",
      "Mercedes-Benz                  4              4                3   \n",
      "Mitsubishi                     4              4                3   \n",
      "Nissan                         4              4                3   \n",
      "Oldsmobile                     3              3                2   \n",
      "Plymouth                       2              3                3   \n",
      "Pontiac                        3              3                3   \n",
      "Porsche                        3              2                2   \n",
      "Rolls-Royce                    1              1                2   \n",
      "Saab                           2              2                2   \n",
      "Scion                          2              2                2   \n",
      "Spyker                         1              1                1   \n",
      "Subaru                         2              4                2   \n",
      "Suzuki                         2              4                2   \n",
      "Tesla                          1              2                1   \n",
      "Toyota                         4              4                3   \n",
      "Volkswagen                     4              4                3   \n",
      "Volvo                          2              3                2   \n",
      "\n",
      "               Market Category  Vehicle Size  Vehicle Style  highway MPG  \\\n",
      "Make                                                                       \n",
      "Acura                       12             2              6           17   \n",
      "Alfa Romeo                   1             1              2            1   \n",
      "Aston Martin                 2             3              3            7   \n",
      "Audi                        15             3              6           23   \n",
      "BMW                         17             3              7           27   \n",
      "Bentley                      7             2              3           10   \n",
      "Bugatti                      1             1              1            1   \n",
      "Buick                       10             3              6           17   \n",
      "Cadillac                    11             3              6           16   \n",
      "Chevrolet                   13             3             16           32   \n",
      "Chrysler                     9             3              7           15   \n",
      "Dodge                       13             3             15           26   \n",
      "FIAT                         5             1              4            9   \n",
      "Ferrari                      2             3              2            7   \n",
      "Ford                        20             3             15           30   \n",
      "GMC                          9             3              9           18   \n",
      "Genesis                      2             1              1            3   \n",
      "HUMMER                       4             2              2            2   \n",
      "Honda                        9             3              8           28   \n",
      "Hyundai                     10             3              6           22   \n",
      "Infiniti                    12             3              4           19   \n",
      "Kia                          7             3              6           23   \n",
      "Lamborghini                  2             2              2            8   \n",
      "Land Rover                  10             3              3           12   \n",
      "Lexus                       12             3              6           22   \n",
      "Lincoln                      6             3              5           20   \n",
      "Lotus                        1             1              2            4   \n",
      "Maserati                     4             3              4           11   \n",
      "Maybach                      3             1              2            1   \n",
      "Mazda                       10             3             11           25   \n",
      "McLaren                      1             1              2            2   \n",
      "Mercedes-Benz               16             3              8           26   \n",
      "Mitsubishi                   7             2             10           26   \n",
      "Nissan                      12             3             13           25   \n",
      "Oldsmobile                   1             3              6           12   \n",
      "Plymouth                     5             3              7           15   \n",
      "Pontiac                     10             3              8           19   \n",
      "Porsche                      9             3              5           12   \n",
      "Rolls-Royce                  3             1              3            4   \n",
      "Saab                         7             3              6           14   \n",
      "Scion                        2             1              5           10   \n",
      "Spyker                       1             1              2            1   \n",
      "Subaru                       7             2              7           18   \n",
      "Suzuki                       3             2              9           17   \n",
      "Tesla                        2             1              1           10   \n",
      "Toyota                      10             3             11           30   \n",
      "Volkswagen                  16             3              8           33   \n",
      "Volvo                        9             3              6           18   \n",
      "\n",
      "               city mpg  Popularity  MSRP  \n",
      "Make                                       \n",
      "Acura                13           1   208  \n",
      "Alfa Romeo            1           1     5  \n",
      "Aston Martin          6           1    86  \n",
      "Audi                 18           1   234  \n",
      "BMW                  22           1   263  \n",
      "Bentley               7           1    61  \n",
      "Bugatti               1           1     3  \n",
      "Buick                14           1   156  \n",
      "Cadillac             11           1   319  \n",
      "Chevrolet            27           1   934  \n",
      "Chrysler             11           1   153  \n",
      "Dodge                18           1   366  \n",
      "FIAT                  9           1    53  \n",
      "Ferrari               7           1    55  \n",
      "Ford                 24           1   684  \n",
      "GMC                  13           1   446  \n",
      "Genesis               3           1     3  \n",
      "HUMMER                2           1    15  \n",
      "Honda                26           1   395  \n",
      "Hyundai              20           1   179  \n",
      "Infiniti             17           1   229  \n",
      "Kia                  19           1   187  \n",
      "Lamborghini           8           1    34  \n",
      "Land Rover           10           1   118  \n",
      "Lexus                23           1   180  \n",
      "Lincoln              12           1   129  \n",
      "Lotus                 5           1    23  \n",
      "Maserati              8           1    45  \n",
      "Maybach               1           1    16  \n",
      "Mazda                18           1   329  \n",
      "McLaren               2           1     5  \n",
      "Mercedes-Benz        20           1   304  \n",
      "Mitsubishi           21           1   140  \n",
      "Nissan               24           1   426  \n",
      "Oldsmobile           10           1    67  \n",
      "Plymouth             13           1    16  \n",
      "Pontiac              15           1   136  \n",
      "Porsche              10           1    97  \n",
      "Rolls-Royce           4           1    31  \n",
      "Saab                 10           1    69  \n",
      "Scion                 8           1    53  \n",
      "Spyker                1           1     2  \n",
      "Subaru               16           1   144  \n",
      "Suzuki               15           1   216  \n",
      "Tesla                11           1    16  \n",
      "Toyota               30           1   585  \n",
      "Volkswagen           21           1   440  \n",
      "Volvo                12           1   170  \n"
     ]
    }
   ],
   "source": [
    "# Question 4\n",
    "print(df.groupby(['Make']).nunique())"
   ]
  },
  {
   "cell_type": "code",
   "execution_count": 57,
   "metadata": {},
   "outputs": [
    {
     "name": "stdout",
     "output_type": "stream",
     "text": [
      "Make                    0\n",
      "Model                   0\n",
      "Year                    0\n",
      "Engine Fuel Type        3\n",
      "Engine HP              69\n",
      "Engine Cylinders       30\n",
      "Transmission Type       0\n",
      "Driven_Wheels           0\n",
      "Number of Doors         6\n",
      "Market Category      3742\n",
      "Vehicle Size            0\n",
      "Vehicle Style           0\n",
      "highway MPG             0\n",
      "city mpg                0\n",
      "Popularity              0\n",
      "MSRP                    0\n",
      "dtype: int64\n"
     ]
    }
   ],
   "source": [
    "# Question 5\n",
    "print(df.isnull().sum())"
   ]
  },
  {
   "cell_type": "code",
   "execution_count": 58,
   "metadata": {},
   "outputs": [
    {
     "name": "stdout",
     "output_type": "stream",
     "text": [
      "6.0\n",
      "6.0\n"
     ]
    }
   ],
   "source": [
    "# Question 6\n",
    "print(df['Engine Cylinders'].median())\n",
    "df = df.fillna(method='ffill')\n",
    "print(df['Engine Cylinders'].median())"
   ]
  },
  {
   "cell_type": "code",
   "execution_count": 81,
   "metadata": {},
   "outputs": [
    {
     "name": "stdout",
     "output_type": "stream",
     "text": [
      "4.594944810094551\n"
     ]
    }
   ],
   "source": [
    "# Question 7\n",
    "new_df = df.loc[df['Make']=='Lotus']\n",
    "new_df = new_df[['Engine HP', 'Engine Cylinders']]\n",
    "new_df = new_df.drop_duplicates()\n",
    "X = new_df.values\n",
    "X_trans = np.transpose(X)\n",
    "XTX = np.matmul(X_trans, X)\n",
    "y = [1100, 800, 750, 850, 1300, 1000, 1000, 1300, 800]\n",
    "XTX_inverse = np.linalg.inv(XTX)\n",
    "w = np.matmul(XTX_inverse,X_trans)\n",
    "w = np.matmul(w, y)\n",
    "print(w[0])"
   ]
  }
 ],
 "metadata": {
  "kernelspec": {
   "display_name": "Python 3.9.6 64-bit",
   "language": "python",
   "name": "python3"
  },
  "language_info": {
   "codemirror_mode": {
    "name": "ipython",
    "version": 3
   },
   "file_extension": ".py",
   "mimetype": "text/x-python",
   "name": "python",
   "nbconvert_exporter": "python",
   "pygments_lexer": "ipython3",
   "version": "3.9.6"
  },
  "orig_nbformat": 4,
  "vscode": {
   "interpreter": {
    "hash": "cf92aa13fedf815d5c8dd192b8d835913fde3e8bc926b2a0ad6cc74ef2ba3ca2"
   }
  }
 },
 "nbformat": 4,
 "nbformat_minor": 2
}
